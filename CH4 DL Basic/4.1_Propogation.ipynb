{
 "cells": [
  {
   "cell_type": "code",
   "execution_count": 1,
   "metadata": {},
   "outputs": [
    {
     "name": "stdout",
     "output_type": "stream",
     "text": [
      "w: [0.3488135  0.71518937 0.60276338]\n",
      "w: [0.1488135  0.71518937 0.60276338]\n",
      "w: [-0.0511865   0.71518937  0.60276338]\n",
      "result: [-0.0511865   0.55157688  1.26676625  0.66400287]\n"
     ]
    }
   ],
   "source": [
    "import numpy as np\n",
    "x = np.array([[0,0],[0,1],[1,1],[1,0]]) # 样本特征\n",
    "y = [-1, 1, 1, 1] # 类别标签\n",
    "np.random.seed(0)\n",
    "\n",
    "w = np.random.rand(3)\n",
    "change = True\n",
    "rate= 0.2 #Learning Rate\n",
    "X = np.hstack((np.ones(4).reshape(4,1),x)) #添加x0\n",
    "\n",
    "while (change):\n",
    "    change = False\n",
    "    for i in range(4):\n",
    "        if(y[i]*np.sign(np.dot(w, X[i],))<0):\n",
    "            w = w + rate * y[i] *X[i]\n",
    "            change = True\n",
    "            print('w:',w) # 更新后的权值\n",
    "print('result:',np.dot(X,w)) #激活函数的输入"
   ]
  }
 ],
 "metadata": {
  "kernelspec": {
   "display_name": "base",
   "language": "python",
   "name": "python3"
  },
  "language_info": {
   "codemirror_mode": {
    "name": "ipython",
    "version": 3
   },
   "file_extension": ".py",
   "mimetype": "text/x-python",
   "name": "python",
   "nbconvert_exporter": "python",
   "pygments_lexer": "ipython3",
   "version": "3.11.4"
  },
  "orig_nbformat": 4
 },
 "nbformat": 4,
 "nbformat_minor": 2
}
