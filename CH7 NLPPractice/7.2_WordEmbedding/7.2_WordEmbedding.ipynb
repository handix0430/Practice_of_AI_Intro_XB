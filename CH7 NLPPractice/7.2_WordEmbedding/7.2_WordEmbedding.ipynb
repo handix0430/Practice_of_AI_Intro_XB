{
 "cells": [
  {
   "cell_type": "code",
   "execution_count": 1,
   "metadata": {},
   "outputs": [
    {
     "name": "stderr",
     "output_type": "stream",
     "text": [
      "c:\\ProgramData\\miniconda3\\envs\\torch_env\\Lib\\site-packages\\tqdm\\auto.py:21: TqdmWarning: IProgress not found. Please update jupyter and ipywidgets. See https://ipywidgets.readthedocs.io/en/stable/user_install.html\n",
      "  from .autonotebook import tqdm as notebook_tqdm\n",
      "Downloading (…)okenizer_config.json: 100%|██████████| 29.0/29.0 [00:00<?, ?B/s]\n",
      "c:\\ProgramData\\miniconda3\\envs\\torch_env\\Lib\\site-packages\\huggingface_hub\\file_download.py:137: UserWarning: `huggingface_hub` cache-system uses symlinks by default to efficiently store duplicated files but your machine does not support them in C:\\Users\\718\\.cache\\huggingface\\hub. Caching files will still work but in a degraded version that might require more space on your disk. This warning can be disabled by setting the `HF_HUB_DISABLE_SYMLINKS_WARNING` environment variable. For more details, see https://huggingface.co/docs/huggingface_hub/how-to-cache#limitations.\n",
      "To support symlinks on Windows, you either need to activate Developer Mode or to run Python as an administrator. In order to see activate developer mode, see this article: https://docs.microsoft.com/en-us/windows/apps/get-started/enable-your-device-for-development\n",
      "  warnings.warn(message)\n",
      "Downloading (…)lve/main/config.json: 100%|██████████| 624/624 [00:00<00:00, 627kB/s]\n",
      "Downloading (…)solve/main/vocab.txt: 100%|██████████| 110k/110k [00:00<00:00, 1.07MB/s]\n",
      "Downloading (…)/main/tokenizer.json: 100%|██████████| 269k/269k [00:00<00:00, 459kB/s]\n"
     ]
    }
   ],
   "source": [
    "# BERT 模型进行Tokenizer\n",
    "from transformers import AutoTokenizer\n",
    "\n",
    "MODEL_NAME = 'bert-base-chinese'\n",
    "Tokenizer = AutoTokenizer.from_pretrained(MODEL_NAME)"
   ]
  },
  {
   "cell_type": "markdown",
   "metadata": {},
   "source": [
    "# encode()"
   ]
  },
  {
   "cell_type": "markdown",
   "metadata": {},
   "source": [
    "## Encode"
   ]
  },
  {
   "cell_type": "code",
   "execution_count": 8,
   "metadata": {},
   "outputs": [
    {
     "name": "stdout",
     "output_type": "stream",
     "text": [
      "[101, 2769, 4263, 1921, 2128, 7305, 102]\n",
      "[101, 100, 112, 155, 165, 11346, 8221, 119, 102]\n"
     ]
    }
   ],
   "source": [
    "# 分词并编码，最简单的方式就是使用encode\n",
    "\n",
    "s1 = \"我爱天安门\"\n",
    "s2 = \"I'm walking.\"\n",
    "\n",
    "tokens1 = Tokenizer.encode(s1)\n",
    "print(tokens1)\n",
    "tokens2 = Tokenizer.encode(s2)\n",
    "print(tokens2)"
   ]
  },
  {
   "cell_type": "markdown",
   "metadata": {},
   "source": [
    "101 = CLS\n",
    "\n",
    "102 = SEP"
   ]
  },
  {
   "cell_type": "code",
   "execution_count": 7,
   "metadata": {},
   "outputs": [
    {
     "name": "stdout",
     "output_type": "stream",
     "text": [
      "[101, 2769, 4263, 1921, 2128, 7305, 102, 0, 0, 0, 0, 0, 0, 0, 0, 0]\n"
     ]
    }
   ],
   "source": [
    "# 指定编码后的长度\n",
    "tokens1 = Tokenizer.encode(text=s1, max_length=16, truncation=True, padding=\"max_length\")\n",
    "print(tokens1)"
   ]
  },
  {
   "cell_type": "markdown",
   "metadata": {},
   "source": [
    "## Decode"
   ]
  },
  {
   "cell_type": "code",
   "execution_count": 9,
   "metadata": {},
   "outputs": [
    {
     "name": "stdout",
     "output_type": "stream",
     "text": [
      "[CLS] 我 爱 天 安 门 [SEP]\n",
      "[CLS] [UNK]'m walking. [SEP]\n"
     ]
    }
   ],
   "source": [
    "t1 = Tokenizer.decode(tokens1)\n",
    "print(t1)\n",
    "\n",
    "t2 = Tokenizer.decode(tokens2)\n",
    "print(t2)"
   ]
  },
  {
   "cell_type": "markdown",
   "metadata": {},
   "source": [
    "UNK = 该预训练的此表不存在该词"
   ]
  },
  {
   "cell_type": "markdown",
   "metadata": {},
   "source": [
    "# tokenize()"
   ]
  },
  {
   "cell_type": "code",
   "execution_count": 10,
   "metadata": {},
   "outputs": [
    {
     "name": "stdout",
     "output_type": "stream",
     "text": [
      "['我', '爱', '天', '安', '门']\n",
      "['[UNK]', \"'\", 'm', 'w', '##alk', '##ing', '.']\n"
     ]
    }
   ],
   "source": [
    "to1 = Tokenizer.tokenize(s1)\n",
    "print(to1)\n",
    "\n",
    "to2 = Tokenizer.tokenize(s2)\n",
    "print(to2)"
   ]
  },
  {
   "cell_type": "code",
   "execution_count": 11,
   "metadata": {},
   "outputs": [
    {
     "name": "stdout",
     "output_type": "stream",
     "text": [
      "[2769, 4263, 1921, 2128, 7305]\n",
      "[100, 112, 155, 165, 11346, 8221, 119]\n"
     ]
    }
   ],
   "source": [
    "t3 = Tokenizer.convert_tokens_to_ids(to1)\n",
    "print(t3)\n",
    "\n",
    "t4 = Tokenizer.convert_tokens_to_ids(to2)\n",
    "print(t4)"
   ]
  },
  {
   "cell_type": "markdown",
   "metadata": {},
   "source": [
    "相比BERT少了一些特殊符"
   ]
  },
  {
   "cell_type": "code",
   "execution_count": 13,
   "metadata": {},
   "outputs": [
    {
     "name": "stdout",
     "output_type": "stream",
     "text": [
      "{'input_ids': [101, 2769, 4263, 1921, 2128, 7305, 102], 'token_type_ids': [0, 0, 0, 0, 0, 0, 0], 'attention_mask': [1, 1, 1, 1, 1, 1, 1]}\n",
      "{'input_ids': [101, 100, 112, 155, 165, 11346, 8221, 119, 102], 'token_type_ids': [0, 0, 0, 0, 0, 0, 0, 0, 0], 'attention_mask': [1, 1, 1, 1, 1, 1, 1, 1, 1]}\n"
     ]
    }
   ],
   "source": [
    "tokens3 = Tokenizer.encode_plus(s1)\n",
    "print(tokens3)\n",
    "\n",
    "tokens4 = Tokenizer.encode_plus(s2)\n",
    "print(tokens4)"
   ]
  }
 ],
 "metadata": {
  "kernelspec": {
   "display_name": "torch_env",
   "language": "python",
   "name": "python3"
  },
  "language_info": {
   "codemirror_mode": {
    "name": "ipython",
    "version": 3
   },
   "file_extension": ".py",
   "mimetype": "text/x-python",
   "name": "python",
   "nbconvert_exporter": "python",
   "pygments_lexer": "ipython3",
   "version": "3.11.5"
  },
  "orig_nbformat": 4
 },
 "nbformat": 4,
 "nbformat_minor": 2
}
