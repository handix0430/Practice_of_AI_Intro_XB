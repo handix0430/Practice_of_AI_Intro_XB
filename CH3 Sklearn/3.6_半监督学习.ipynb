{
 "cells": [
  {
   "cell_type": "markdown",
   "metadata": {},
   "source": [
    "# 3.6"
   ]
  },
  {
   "cell_type": "markdown",
   "metadata": {},
   "source": [
    "手写识别为例，使用使用LabelSpreading模型做MNist数据集分类。"
   ]
  },
  {
   "cell_type": "code",
   "execution_count": 7,
   "metadata": {},
   "outputs": [],
   "source": [
    "import numpy as np\n",
    "from sklearn import datasets\n",
    "\n",
    "digits = datasets.load_digits()\n",
    "total = len(digits.data)\n",
    "indices = np.arange(total)\n",
    "\n",
    "aa = np.random.RandomState(2).shuffle(indices)\n",
    "\n",
    "X = digits.data[indices]\n",
    "y = digits.target[indices]\n"
   ]
  },
  {
   "cell_type": "code",
   "execution_count": 8,
   "metadata": {},
   "outputs": [],
   "source": [
    "# 用于半监督学习的数据集\n",
    "\n",
    "labeled_point = 40\n",
    "y_train = np.copy(y)\n",
    "y_train[labeled_point:] = -1 # -1是去标签，表示去除labeled_points 以后的标签"
   ]
  },
  {
   "cell_type": "code",
   "execution_count": 12,
   "metadata": {},
   "outputs": [
    {
     "name": "stdout",
     "output_type": "stream",
     "text": [
      "Label Spreading model: 40 labeled & 1757 unlabeled points (1797 total)\n",
      "              precision    recall  f1-score   support\n",
      "\n",
      "           0       1.00      1.00      1.00       176\n",
      "           1       0.81      0.97      0.88       177\n",
      "           2       0.98      0.93      0.95       175\n",
      "           3       0.98      0.93      0.95       182\n",
      "           4       0.97      0.98      0.98       173\n",
      "           5       0.90      0.96      0.93       176\n",
      "           6       0.99      1.00      1.00       173\n",
      "           7       0.98      0.96      0.97       176\n",
      "           8       0.92      0.80      0.86       173\n",
      "           9       0.93      0.89      0.91       176\n",
      "\n",
      "    accuracy                           0.94      1757\n",
      "   macro avg       0.95      0.94      0.94      1757\n",
      "weighted avg       0.95      0.94      0.94      1757\n",
      "\n",
      "[[176   0   0   0   0   0   0   0   0   0]\n",
      " [  0 172   0   0   3   1   0   0   0   1]\n",
      " [  0  10 163   1   0   0   0   0   1   0]\n",
      " [  0   0   0 169   0   2   0   1   5   5]\n",
      " [  0   0   0   0 170   0   0   3   0   0]\n",
      " [  0   0   0   0   0 169   1   0   0   6]\n",
      " [  0   0   0   0   0   0 173   0   0   0]\n",
      " [  0   0   0   0   0   6   0 169   1   0]\n",
      " [  0  29   4   0   1   0   0   0 139   0]\n",
      " [  0   1   0   3   1   9   0   0   5 157]]\n"
     ]
    }
   ],
   "source": [
    "# 定义模型、训练、结果\n",
    "\n",
    "# 标签传播算法\n",
    "from sklearn.semi_supervised import LabelSpreading\n",
    "# 评估分类模型性能\n",
    "from sklearn.metrics import classification_report\n",
    "from sklearn.metrics import confusion_matrix\n",
    "\n",
    "# Instanciate，gamma用于控制样本之间相似度的计算方式。gamma越大，表示样本之间的相似度衰减得越快，即只有距离很近的样本才会有较高的相似度；gamma越小，表示样本之间的相似度衰减得越慢，即距离较远的样本也会有较高的相似度。因此，gamma的选择会影响模型对于不同尺度下样本分布的敏感程度。\n",
    "lp_model = LabelSpreading(gamma=0.25)\n",
    "\n",
    "# Training\n",
    "lp_model.fit(X,y_train)\n",
    "\n",
    "# Predict results\n",
    "# 从lp_model中获取预测结果，赋值给pred_labels。pred_labels是一个一维数组，表示所有样本的预测标签值。lp_model有一个属性叫做transduction_，它是一个一维数组，表示模型在训练过程中对所有样本进行标签传播后得到的结果。\n",
    "pred_labels = lp_model.transduction_[labeled_point:]\n",
    "\n",
    "# Get True labels\n",
    "# 前面的已经有真实值了，所以才从labeled_point 开始\n",
    "true_labels = y[labeled_point:]\n",
    "\n",
    "# 查看模型分类结果报告\n",
    "print(\n",
    "    \"Label Spreading model: %d labeled & %d unlabeled points (%d total)\"\n",
    "    % (labeled_point, total - labeled_point, total)\n",
    ")\n",
    "print(classification_report(true_labels, pred_labels))  # 打印性能指标\n",
    "print(confusion_matrix(true_labels, pred_labels))  # 打印混淆矩阵，可以看出每个数字判断正确和错误的情况"
   ]
  },
  {
   "cell_type": "code",
   "execution_count": 15,
   "metadata": {},
   "outputs": [
    {
     "data": {
      "image/png": "[encoded data removed]",
      "text/plain": [
       "<Figure size 700x500 with 10 Axes>"
      ]
     },
     "metadata": {},
     "output_type": "display_data"
    }
   ],
   "source": [
    "%matplotlib inline\n",
    "\n",
    "import matplotlib.pyplot as plt\n",
    "\n",
    "# 得到所有错误结果的索引\n",
    "error_index =np.where(pred_labels-true_labels != 0)[0]\n",
    "\n",
    "# Fig\n",
    "f= plt.figure(figsize=(7,5))\n",
    "f.suptitle(\"Learning with small amount of labeled data\")\n",
    "for i, index in enumerate(error_index[:10]):\n",
    "    image = X[index + labeled_point].reshape(8,8) \n",
    "    sub = f.add_subplot(2, 5, i+1) # 2行5列\n",
    "    sub.imshow(image, cmap=plt.cm.gray_r)\n",
    "    plt.xticks([])\n",
    "    plt.yticks([])\n",
    "    sub.set_title(\n",
    "        \"predict: %i\\ntrue: %i\" %(pred_labels[index], true_labels[index])\n",
    "    )"
   ]
  },
  {
   "cell_type": "markdown",
   "metadata": {},
   "source": [
    "半监督学习考虑了全部样本的分布，性能优于只有少量有标签样本的逻辑回归算法"
   ]
  },
  {
   "cell_type": "code",
   "execution_count": 16,
   "metadata": {},
   "outputs": [
    {
     "name": "stdout",
     "output_type": "stream",
     "text": [
      "              precision    recall  f1-score   support\n",
      "\n",
      "           0       0.97      0.88      0.93       176\n",
      "           1       0.50      0.79      0.61       177\n",
      "           2       0.90      0.26      0.40       175\n",
      "           3       0.91      0.23      0.37       182\n",
      "           4       0.46      0.98      0.63       173\n",
      "           5       0.62      0.90      0.73       176\n",
      "           6       0.78      0.98      0.87       173\n",
      "           7       0.91      0.73      0.81       176\n",
      "           8       1.00      0.08      0.15       173\n",
      "           9       0.65      0.83      0.73       176\n",
      "\n",
      "    accuracy                           0.66      1757\n",
      "   macro avg       0.77      0.67      0.62      1757\n",
      "weighted avg       0.77      0.66      0.62      1757\n",
      "\n",
      "[[155   0   0   0  13   0   6   0   0   2]\n",
      " [  0 139   0   0  30   0   3   0   0   5]\n",
      " [  1  95  45   3  23   2   1   2   0   3]\n",
      " [  1  17   5  42   3  59   1   4   0  50]\n",
      " [  0   1   0   0 170   0   1   1   0   0]\n",
      " [  1   1   0   0   3 159   2   0   0  10]\n",
      " [  0   2   0   0   2   0 169   0   0   0]\n",
      " [  0   0   0   0  41   7   0 128   0   0]\n",
      " [  0  20   0   0  80  14  33   3  14   9]\n",
      " [  1   5   0   1   4  16   0   3   0 146]]\n"
     ]
    }
   ],
   "source": [
    "# 上例中的40个带标签样本来训练一个一般的逻辑回归分类器，对剩余标签进行分类，可对比分类效果\n",
    "\n",
    "from sklearn import ensemble\n",
    "\n",
    "# instantiate\n",
    "clf = ensemble.ExtraTreesClassifier()\n",
    "\n",
    "# Train\n",
    "clf = clf.fit(X[:labeled_point:], y_train[:labeled_point])\n",
    "\n",
    "# Pred\n",
    "pred = clf.predict(X[labeled_point:])\n",
    "\n",
    "# Print Evaluate\n",
    "print(classification_report(y[labeled_point:], pred))\n",
    "\n",
    "# Print ConfusionMatrix\n",
    "print(confusion_matrix(y[labeled_point:], pred))"
   ]
  },
  {
   "cell_type": "markdown",
   "metadata": {},
   "source": [
    "可以发现，这时的有监督学习算法性能是原地于半监督学习方法的。\n",
    "\n",
    "原因：训练样本数过少导致的过拟合\n",
    "\n",
    "也告诉我们训练样本较少，且需要预测的样本在训练前已经获得时，可以考虑半监督学习方法"
   ]
  }
 ],
 "metadata": {
  "kernelspec": {
   "display_name": "base",
   "language": "python",
   "name": "python3"
  },
  "language_info": {
   "codemirror_mode": {
    "name": "ipython",
    "version": 3
   },
   "file_extension": ".py",
   "mimetype": "text/x-python",
   "name": "python",
   "nbconvert_exporter": "python",
   "pygments_lexer": "ipython3",
   "version": "3.11.4"
  },
  "orig_nbformat": 4
 },
 "nbformat": 4,
 "nbformat_minor": 2
}
