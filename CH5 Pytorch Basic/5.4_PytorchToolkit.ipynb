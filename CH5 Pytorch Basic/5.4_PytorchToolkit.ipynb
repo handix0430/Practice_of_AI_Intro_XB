{
 "cells": [
  {
   "cell_type": "markdown",
   "metadata": {},
   "source": [
    "# Optimizer"
   ]
  },
  {
   "cell_type": "code",
   "execution_count": 1,
   "metadata": {},
   "outputs": [],
   "source": [
    "from torch import optim"
   ]
  },
  {
   "cell_type": "code",
   "execution_count": null,
   "metadata": {},
   "outputs": [],
   "source": [
    "# SGD优化器\n",
    "opt = optim.SGD(model.parameters(), lr = lr) # model是网络模型, lr是学习率\n",
    "# Momentum 动量加速\n",
    "opt_Momentum = optim.SGD(model,parameters(), lr=lr, momentum=0.8) \n",
    "# RMSprop, hyperparameters alpha\n",
    "opt_RMSprop = optim.RMSprop(model.parameters(), lr=lr, alpha=0.9)\n",
    "# Adam, hyperparameters betas\n",
    "opt_Adam = optim.Adam(model.parameters(), lr=lr, betas=(0.9, 0.99))"
   ]
  },
  {
   "cell_type": "markdown",
   "metadata": {},
   "source": [
    "# Dataset & DataLoader"
   ]
  },
  {
   "cell_type": "code",
   "execution_count": 41,
   "metadata": {},
   "outputs": [],
   "source": [
    "## Create and use the dataset\n",
    "\n",
    "import torch.utils.data.dataset as Datasets"
   ]
  },
  {
   "cell_type": "markdown",
   "metadata": {},
   "source": [
    "在应用Dataset抽象类创建子类时，通常需要重写__ inti __ 初始化方法来定义数据内容和标签，重写 __ len __ 方法来返回数据集大小，以及重写 __ getitem __ 方法来得到数据内容和标签。"
   ]
  },
  {
   "cell_type": "code",
   "execution_count": 42,
   "metadata": {},
   "outputs": [
    {
     "name": "stdout",
     "output_type": "stream",
     "text": [
      "数据集大小为： 4\n",
      "(tensor([3., 2.]), tensor([0.]))\n",
      "(tensor([3., 2.]), tensor([0.]))\n"
     ]
    }
   ],
   "source": [
    "import torch\n",
    "import torch.utils.data.dataset as Dataset\n",
    "import numpy as np\n",
    "\n",
    "# Create sub\n",
    "class subDataset(Dataset.Dataset):\n",
    "    # Init\n",
    "    def __init__(self, Data, Label):\n",
    "        self.Data = Data\n",
    "        self.Label = Label\n",
    "    # return len\n",
    "    def __len__(self):\n",
    "        return len(self.Data)\n",
    "    # get the data and label\n",
    "    def __getitem__(self, index):\n",
    "        data = torch.Tensor(self.Data[index])\n",
    "        label = torch.Tensor(self.Label[index])\n",
    "        return data, label\n",
    "    \n",
    "# Struct Dataset\n",
    "Data = np.asarray([[3, 2], [1, 4], [7, 2], [3, 1]]) # 将python的list转换为numpy的\n",
    "Label = np.asarray([[0], [0], [1], [1]])\n",
    "\n",
    "sub = subDataset(Data, Label) # 创建数据集对象\n",
    "print('数据集大小为：', sub.__len__())\n",
    "print(sub.__getitem__(0)) # 第0项的数据\n",
    "print(sub[0]) # 等于上一行\n",
    "\n",
    "# if __name__ == 'main':\n",
    "#     sub = subDataset(Data, Label) # 创建数据集对象\n",
    "#     print('数据集大小为：', sub.__len__())\n",
    "#     print(sub.__getitem__(0)) # 第0项的数据\n",
    "#     print(sub[0]) # 等于上一行"
   ]
  },
  {
   "cell_type": "markdown",
   "metadata": {},
   "source": [
    "用户通过自己创建的Dataset对象的子类来构建数据集对象，之后就可以使用该对象来读取数据集的相关数据。"
   ]
  },
  {
   "cell_type": "markdown",
   "metadata": {},
   "source": [
    "## Create and use DataLoader"
   ]
  },
  {
   "cell_type": "code",
   "execution_count": 43,
   "metadata": {},
   "outputs": [],
   "source": [
    "import torch.utils.data.dataloader as DataLoader"
   ]
  },
  {
   "cell_type": "markdown",
   "metadata": {},
   "source": [
    "在创建Dataloader迭代器对象时，需将将用户构建的数据集对象作为参数。\n",
    "\n",
    "下面代码：对象是sub，num_workers是子进程"
   ]
  },
  {
   "cell_type": "code",
   "execution_count": 44,
   "metadata": {},
   "outputs": [
    {
     "name": "stdout",
     "output_type": "stream",
     "text": [
      "data:  tensor([[3., 2.],\n",
      "        [1., 4.]])\n",
      "label:  tensor([[0.],\n",
      "        [0.]])\n",
      "data:  tensor([[7., 2.],\n",
      "        [3., 1.]])\n",
      "label:  tensor([[1.],\n",
      "        [1.]])\n"
     ]
    }
   ],
   "source": [
    "dataloader = DataLoader.DataLoader(sub, batch_size=2, shuffle=False, num_workers=0)\n",
    "\n",
    "for i, item in enumerate(dataloader):\n",
    "    data, label = item\n",
    "    print('data: ', data)\n",
    "    print('label: ', label)"
   ]
  },
  {
   "cell_type": "markdown",
   "metadata": {},
   "source": [
    "# Torchvision"
   ]
  },
  {
   "cell_type": "markdown",
   "metadata": {},
   "source": [
    "收录了若干重要的公开数据集，网络模型和常用的图像变换方法"
   ]
  },
  {
   "cell_type": "markdown",
   "metadata": {},
   "source": [
    "## torchvision.datasets 数据集下载模块"
   ]
  },
  {
   "cell_type": "code",
   "execution_count": 45,
   "metadata": {},
   "outputs": [
    {
     "name": "stdout",
     "output_type": "stream",
     "text": [
      "Files already downloaded and verified\n",
      "Files already downloaded and verified\n"
     ]
    }
   ],
   "source": [
    "import torch\n",
    "import torch.utils.data.dataset as Dataset\n",
    "import torchvision\n",
    "# 全局取消证书验证,数据集更容易被下载成功\n",
    "import ssl\n",
    "ssl._create_default_https_context = ssl._create_unverified_context\n",
    "# 分别下载训练集和测试集\n",
    "trainset = torchvision.datasets.CIFAR10(root='./data', train=True,\n",
    "                                        download=True, transform=None)\n",
    "testset = torchvision.datasets.CIFAR10(root='./data', train=False,\n",
    "                                       download=True, transform=None)\n",
    "trainloader = torch.utils.data.DataLoader(trainset, batch_size=4,\n",
    "                                          shuffle=True, num_workers=2)\n",
    "testloader = torch.utils.data.DataLoader(testset, batch_size=4)"
   ]
  },
  {
   "cell_type": "markdown",
   "metadata": {},
   "source": [
    "## torchvision.models 预训练模型"
   ]
  },
  {
   "cell_type": "code",
   "execution_count": 46,
   "metadata": {},
   "outputs": [
    {
     "name": "stderr",
     "output_type": "stream",
     "text": [
      "c:\\ProgramData\\miniconda3\\envs\\torch_env\\Lib\\site-packages\\torchvision\\models\\_utils.py:208: UserWarning: The parameter 'pretrained' is deprecated since 0.13 and may be removed in the future, please use 'weights' instead.\n",
      "  warnings.warn(\n",
      "c:\\ProgramData\\miniconda3\\envs\\torch_env\\Lib\\site-packages\\torchvision\\models\\_utils.py:223: UserWarning: Arguments other than a weight enum or `None` for 'weights' are deprecated since 0.13 and may be removed in the future. The current behavior is equivalent to passing `weights=ResNet50_Weights.IMAGENET1K_V1`. You can also use `weights=ResNet50_Weights.DEFAULT` to get the most up-to-date weights.\n",
      "  warnings.warn(msg)\n"
     ]
    }
   ],
   "source": [
    "# 以下代码将resnet50预训练模型加载：\n",
    "\n",
    "import torchvision\n",
    "\n",
    "model = torchvision.models.resnet50(pretrained=True) # 设置pretrained=True表示使用预训练模型的参数进行初始化网络参数，否则不使用预训练模型的参数进行初始化"
   ]
  },
  {
   "cell_type": "code",
   "execution_count": 47,
   "metadata": {},
   "outputs": [
    {
     "name": "stderr",
     "output_type": "stream",
     "text": [
      "c:\\ProgramData\\miniconda3\\envs\\torch_env\\Lib\\site-packages\\torchvision\\models\\_utils.py:223: UserWarning: Arguments other than a weight enum or `None` for 'weights' are deprecated since 0.13 and may be removed in the future. The current behavior is equivalent to passing `weights=VGG16_Weights.IMAGENET1K_V1`. You can also use `weights=VGG16_Weights.DEFAULT` to get the most up-to-date weights.\n",
      "  warnings.warn(msg)\n"
     ]
    },
    {
     "name": "stdout",
     "output_type": "stream",
     "text": [
      "VGG(\n",
      "  (features): Sequential(\n",
      "    (0): Conv2d(3, 64, kernel_size=(3, 3), stride=(1, 1), padding=(1, 1))\n",
      "    (1): ReLU(inplace=True)\n",
      "    (2): Conv2d(64, 64, kernel_size=(3, 3), stride=(1, 1), padding=(1, 1))\n",
      "    (3): ReLU(inplace=True)\n",
      "    (4): MaxPool2d(kernel_size=2, stride=2, padding=0, dilation=1, ceil_mode=False)\n",
      "    (5): Conv2d(64, 128, kernel_size=(3, 3), stride=(1, 1), padding=(1, 1))\n",
      "    (6): ReLU(inplace=True)\n",
      "    (7): Conv2d(128, 128, kernel_size=(3, 3), stride=(1, 1), padding=(1, 1))\n",
      "    (8): ReLU(inplace=True)\n",
      "    (9): MaxPool2d(kernel_size=2, stride=2, padding=0, dilation=1, ceil_mode=False)\n",
      "    (10): Conv2d(128, 256, kernel_size=(3, 3), stride=(1, 1), padding=(1, 1))\n",
      "    (11): ReLU(inplace=True)\n",
      "    (12): Conv2d(256, 256, kernel_size=(3, 3), stride=(1, 1), padding=(1, 1))\n",
      "    (13): ReLU(inplace=True)\n",
      "    (14): Conv2d(256, 256, kernel_size=(3, 3), stride=(1, 1), padding=(1, 1))\n",
      "    (15): ReLU(inplace=True)\n",
      "    (16): MaxPool2d(kernel_size=2, stride=2, padding=0, dilation=1, ceil_mode=False)\n",
      "    (17): Conv2d(256, 512, kernel_size=(3, 3), stride=(1, 1), padding=(1, 1))\n",
      "    (18): ReLU(inplace=True)\n",
      "    (19): Conv2d(512, 512, kernel_size=(3, 3), stride=(1, 1), padding=(1, 1))\n",
      "    (20): ReLU(inplace=True)\n",
      "    (21): Conv2d(512, 512, kernel_size=(3, 3), stride=(1, 1), padding=(1, 1))\n",
      "    (22): ReLU(inplace=True)\n",
      "    (23): MaxPool2d(kernel_size=2, stride=2, padding=0, dilation=1, ceil_mode=False)\n",
      "    (24): Conv2d(512, 512, kernel_size=(3, 3), stride=(1, 1), padding=(1, 1))\n",
      "    (25): ReLU(inplace=True)\n",
      "    (26): Conv2d(512, 512, kernel_size=(3, 3), stride=(1, 1), padding=(1, 1))\n",
      "    (27): ReLU(inplace=True)\n",
      "    (28): Conv2d(512, 512, kernel_size=(3, 3), stride=(1, 1), padding=(1, 1))\n",
      "    (29): ReLU(inplace=True)\n",
      "    (30): MaxPool2d(kernel_size=2, stride=2, padding=0, dilation=1, ceil_mode=False)\n",
      "  )\n",
      "  (avgpool): AdaptiveAvgPool2d(output_size=(7, 7))\n",
      "  (classifier): Sequential(\n",
      "    (0): Linear(in_features=25088, out_features=4096, bias=True)\n",
      "    (1): ReLU(inplace=True)\n",
      "    (2): Dropout(p=0.5, inplace=False)\n",
      "    (3): Linear(in_features=4096, out_features=4096, bias=True)\n",
      "    (4): ReLU(inplace=True)\n",
      "    (5): Dropout(p=0.5, inplace=False)\n",
      "    (6): Linear(in_features=4096, out_features=1000, bias=True)\n",
      "  )\n",
      ")\n"
     ]
    }
   ],
   "source": [
    "import torchvision.models as models\n",
    "model = models.vgg16(pretrained=True)\n",
    "print(model)"
   ]
  },
  {
   "cell_type": "code",
   "execution_count": 48,
   "metadata": {},
   "outputs": [
    {
     "name": "stdout",
     "output_type": "stream",
     "text": [
      "Sequential(\n",
      "  (0): Linear(in_features=25088, out_features=4096, bias=True)\n",
      "  (1): ReLU(inplace=True)\n",
      "  (2): Dropout(p=0.5, inplace=False)\n",
      "  (3): Linear(in_features=4096, out_features=4096, bias=True)\n",
      "  (4): ReLU(inplace=True)\n",
      "  (5): Dropout(p=0.5, inplace=False)\n",
      "  (6): Linear(in_features=4096, out_features=10, bias=True)\n",
      ")\n"
     ]
    }
   ],
   "source": [
    "# 以下示例给出了修改上面的网络模型输出层为10个结点的示例\n",
    "model.classifier[6]=torch.nn.Linear(4096,10)\n",
    "print(model.classifier)"
   ]
  },
  {
   "cell_type": "markdown",
   "metadata": {},
   "source": [
    "通常，我们只需要对最后几层网络的参数进行学习，而将前面各层的预训练好的参数固定下来。\n",
    "\n",
    "下面的示例给出了上述模型除最后三层的参数外其他所有参数固定下来的代码"
   ]
  },
  {
   "cell_type": "code",
   "execution_count": 49,
   "metadata": {},
   "outputs": [],
   "source": [
    "from torch import optim as optimizer\n",
    "for p in model.parameters():\n",
    "    p.requires_grad=False\n",
    "for p in model.classifier.parameters():\n",
    "    p.requires_grad = True\n",
    "opt=optimizer.SGD(filter(lambda p: p.requires_grad, model.parameters()), lr=1e-3)"
   ]
  },
  {
   "cell_type": "code",
   "execution_count": 50,
   "metadata": {},
   "outputs": [],
   "source": [
    "# 也可以直接在定义优化器时直接给出需要学习的参数\n",
    "opt=optimizer.SGD(filter(lambda p: p.requires_grad, model.parameters()), lr=1e-3)"
   ]
  },
  {
   "cell_type": "markdown",
   "metadata": {},
   "source": [
    "接下来，就可以使用新样本对模型进行训练了。在训练时，就只对后三层网络的参数进行学习，其他各层的参数都是预训练好的，主要用于特征提取。"
   ]
  },
  {
   "cell_type": "markdown",
   "metadata": {},
   "source": [
    "## （3）torchvision.transforms图像变换模块"
   ]
  },
  {
   "cell_type": "code",
   "execution_count": 51,
   "metadata": {},
   "outputs": [
    {
     "name": "stdout",
     "output_type": "stream",
     "text": [
      "torch.Size([4, 3, 64, 64]) torch.Size([3, 64, 64])\n"
     ]
    }
   ],
   "source": [
    "import torch\n",
    "import torchvision\n",
    "import PIL\n",
    "\n",
    "orig_img1 = torch.randn(4, 3, 64, 64)\n",
    "orig_img2 = torch.randn(3, 64, 64)\n",
    "print(orig_img1.shape, orig_img2.shape)"
   ]
  },
  {
   "cell_type": "code",
   "execution_count": 52,
   "metadata": {},
   "outputs": [
    {
     "name": "stdout",
     "output_type": "stream",
     "text": [
      "torch.Size([4, 3, 8, 8]) torch.Size([3, 8, 8])\n"
     ]
    },
    {
     "name": "stderr",
     "output_type": "stream",
     "text": [
      "c:\\ProgramData\\miniconda3\\envs\\torch_env\\Lib\\site-packages\\torchvision\\transforms\\functional.py:1603: UserWarning: The default value of the antialias parameter of all the resizing transforms (Resize(), RandomResizedCrop(), etc.) will change from None to True in v0.17, in order to be consistent across the PIL and Tensor backends. To suppress this warning, directly pass antialias=True (recommended, future default), antialias=None (current default, which means False for Tensors and True for PIL), or antialias=False (only works on Tensors - PIL will still use antialiasing). This also applies if you are using the inference transforms from the models weights: update the call to weights.transforms(antialias=True).\n",
      "  warnings.warn(\n"
     ]
    }
   ],
   "source": [
    "# 缩放 线性插值\n",
    "resize = torchvision.transforms.Resize((8,8), interpolation=PIL.Image.BILINEAR)\n",
    "new_img1 = resize(orig_img1)\n",
    "new_img2 = resize(orig_img2)\n",
    "print(new_img1.shape, new_img2.shape)"
   ]
  },
  {
   "cell_type": "code",
   "execution_count": 53,
   "metadata": {},
   "outputs": [
    {
     "name": "stdout",
     "output_type": "stream",
     "text": [
      "torch.Size([4, 3, 16, 16]) torch.Size([3, 16, 16])\n"
     ]
    }
   ],
   "source": [
    "# 中心切割\n",
    "ccrop = torchvision.transforms.CenterCrop((16, 16)) # 切割得到16*16的尺寸\n",
    "new_img3 = ccrop(orig_img1)\n",
    "new_img4 = ccrop(orig_img2)\n",
    "print(new_img3.shape, new_img4.shape)"
   ]
  },
  {
   "cell_type": "code",
   "execution_count": 54,
   "metadata": {},
   "outputs": [
    {
     "name": "stdout",
     "output_type": "stream",
     "text": [
      "torch.Size([4, 3, 6, 6]) torch.Size([3, 6, 6])\n"
     ]
    }
   ],
   "source": [
    "# 随机切割\n",
    "rcrop = torchvision.transforms.RandomCrop(6) # 切割得到6*6，参数为整数\n",
    "new_img5 = rcrop(orig_img1)\n",
    "new_img6 = rcrop(orig_img2)\n",
    "print(new_img5.shape, new_img6.shape)"
   ]
  },
  {
   "cell_type": "code",
   "execution_count": 55,
   "metadata": {},
   "outputs": [
    {
     "name": "stdout",
     "output_type": "stream",
     "text": [
      "torch.Size([4, 3, 2, 2]) torch.Size([3, 2, 2])\n"
     ]
    }
   ],
   "source": [
    "# 对图像先进行随机切割，然后再resize成给定的size大小\n",
    "rrcrop = torchvision.transforms.RandomResizedCrop(2)\n",
    "new_img7 = rrcrop(orig_img1)\n",
    "new_img8 = rrcrop(orig_img2)\n",
    "print(new_img7.shape, new_img8.shape)"
   ]
  },
  {
   "cell_type": "code",
   "execution_count": 56,
   "metadata": {},
   "outputs": [
    {
     "name": "stdout",
     "output_type": "stream",
     "text": [
      "torch.Size([4, 3, 4, 4]) torch.Size([3, 4, 4])\n"
     ]
    }
   ],
   "source": [
    "# 对图像边缘进行扩充\n",
    "pad = torchvision.transforms.Pad(padding=1, fill=0) # 上下左右各扩充1行或1列值为0的像素\n",
    "new_img9 = pad(new_img7)\n",
    "new_img10 = pad(new_img8)\n",
    "print(new_img9.shape, new_img10.shape)"
   ]
  },
  {
   "cell_type": "code",
   "execution_count": 57,
   "metadata": {},
   "outputs": [
    {
     "name": "stdout",
     "output_type": "stream",
     "text": [
      "tensor([[[ 0.0733, -0.0194],\n",
      "         [ 0.1813,  0.3724]],\n",
      "\n",
      "        [[-0.6493,  0.4421],\n",
      "         [ 0.1704, -0.3075]],\n",
      "\n",
      "        [[ 0.1571, -0.1058],\n",
      "         [ 0.3564,  0.2857]]]), tensor([[[ 1.0733,  0.9806],\n",
      "         [ 1.1813,  1.3724]],\n",
      "\n",
      "        [[-0.8246, -0.2789],\n",
      "         [-0.4148, -0.6538]],\n",
      "\n",
      "        [[ 0.0524, -0.0353],\n",
      "         [ 0.1188,  0.0952]]])\n"
     ]
    }
   ],
   "source": [
    "# 对图像RGB各通道像素按正态分布进行归一化\n",
    "norm = torchvision.transforms.Normalize((-1,1,0), (1,2,3))\n",
    "new_img11 = norm(new_img7)\n",
    "new_img12 = norm(new_img8)\n",
    "print(f\"{new_img8}, {new_img12}\")"
   ]
  },
  {
   "cell_type": "code",
   "execution_count": 58,
   "metadata": {},
   "outputs": [
    {
     "name": "stdout",
     "output_type": "stream",
     "text": [
      "torch.Size([3, 2, 2]) (2, 2)\n"
     ]
    }
   ],
   "source": [
    "# 转换为Image图像\n",
    "topil = torchvision.transforms.ToPILImage()\n",
    "new_img14 = topil(new_img8)\n",
    "print(new_img8.shape, new_img14.size)\n",
    "new_img14.save(\"a.png\")  # 将图像保存为文件"
   ]
  },
  {
   "cell_type": "markdown",
   "metadata": {},
   "source": [
    "当对图像依次进行多个变换操作时，可以使用torchvision.transforms.Compose类将这些变换连接在一起，构成一个统一的操作一次调用完成。示例如下："
   ]
  },
  {
   "cell_type": "code",
   "execution_count": 59,
   "metadata": {},
   "outputs": [],
   "source": [
    "from torchvision import transforms\n",
    "from PIL import Image\n",
    "orig_img = Image.open(\"a.png\")\n",
    "opts = transforms.Compose([\n",
    "    transforms.CenterCrop(10),\n",
    "    transforms.ToTensor(),\n",
    "    transforms.Normalize((-100,-150,-200), (10,5,3)),\n",
    "    transforms.ToPILImage()\n",
    "])\n",
    "new_img = opts(orig_img)\n",
    "new_img.save(\"b.png\")"
   ]
  },
  {
   "cell_type": "markdown",
   "metadata": {},
   "source": [
    "# Torchaudio\n",
    "音频处理和识别的包"
   ]
  },
  {
   "cell_type": "code",
   "execution_count": 60,
   "metadata": {},
   "outputs": [
    {
     "name": "stdout",
     "output_type": "stream",
     "text": [
      "2.0.2\n"
     ]
    }
   ],
   "source": [
    "import torchaudio\n",
    "print(torchaudio.__version__)"
   ]
  },
  {
   "cell_type": "code",
   "execution_count": 69,
   "metadata": {},
   "outputs": [
    {
     "name": "stdout",
     "output_type": "stream",
     "text": [
      "Torchaudio version: 2.0.2\n"
     ]
    }
   ],
   "source": [
    "import torchaudio\n",
    "\n",
    "print(\"Torchaudio version:\", torchaudio.__version__)"
   ]
  },
  {
   "cell_type": "code",
   "execution_count": 71,
   "metadata": {},
   "outputs": [
    {
     "data": {
      "text/plain": [
       "'None'"
      ]
     },
     "execution_count": 71,
     "metadata": {},
     "output_type": "execute_result"
    }
   ],
   "source": [
    "str(torchaudio.get_audio_backend())"
   ]
  },
  {
   "cell_type": "code",
   "execution_count": 73,
   "metadata": {},
   "outputs": [
    {
     "ename": "RuntimeError",
     "evalue": "No audio I/O backend is available.",
     "output_type": "error",
     "traceback": [
      "\u001b[1;31m---------------------------------------------------------------------------\u001b[0m",
      "\u001b[1;31mRuntimeError\u001b[0m                              Traceback (most recent call last)",
      "\u001b[1;32md:\\JJCCHuang\\Study\\git_code\\Practice_of_AI_Intro_XB\\CH5 Pytorch Basic\\5.4_PytorchToolkit.ipynb\\ 单元格 40\u001b[0m line \u001b[0;36m1\n\u001b[0;32m      <a href='vscode-notebook-cell:/d%3A/JJCCHuang/Study/git_code/Practice_of_AI_Intro_XB/CH5%20Pytorch%20Basic/5.4_PytorchToolkit.ipynb/#X53sZmlsZQ%3D%3D?line=8'>9</a>\u001b[0m         file_\u001b[39m.\u001b[39mwrite(requests\u001b[39m.\u001b[39mget(SAMPLE_WAV_URL)\u001b[39m.\u001b[39mcontent)\n\u001b[0;32m     <a href='vscode-notebook-cell:/d%3A/JJCCHuang/Study/git_code/Practice_of_AI_Intro_XB/CH5%20Pytorch%20Basic/5.4_PytorchToolkit.ipynb/#X53sZmlsZQ%3D%3D?line=9'>10</a>\u001b[0m         file_\u001b[39m.\u001b[39mclose()\n\u001b[1;32m---> <a href='vscode-notebook-cell:/d%3A/JJCCHuang/Study/git_code/Practice_of_AI_Intro_XB/CH5%20Pytorch%20Basic/5.4_PytorchToolkit.ipynb/#X53sZmlsZQ%3D%3D?line=10'>11</a>\u001b[0m metadata \u001b[39m=\u001b[39m torchaudio\u001b[39m.\u001b[39minfo(SPEECH_FILE)  \u001b[39m# 得到音频文件信息\u001b[39;00m\n\u001b[0;32m     <a href='vscode-notebook-cell:/d%3A/JJCCHuang/Study/git_code/Practice_of_AI_Intro_XB/CH5%20Pytorch%20Basic/5.4_PytorchToolkit.ipynb/#X53sZmlsZQ%3D%3D?line=11'>12</a>\u001b[0m \u001b[39mprint\u001b[39m(metadata)\n",
      "File \u001b[1;32mc:\\ProgramData\\miniconda3\\envs\\torch_env\\Lib\\site-packages\\torchaudio\\backend\\no_backend.py:24\u001b[0m, in \u001b[0;36minfo\u001b[1;34m(filepath)\u001b[0m\n\u001b[0;32m     23\u001b[0m \u001b[39mdef\u001b[39;00m \u001b[39minfo\u001b[39m(filepath: \u001b[39mstr\u001b[39m) \u001b[39m-\u001b[39m\u001b[39m>\u001b[39m \u001b[39mNone\u001b[39;00m:\n\u001b[1;32m---> 24\u001b[0m     \u001b[39mraise\u001b[39;00m \u001b[39mRuntimeError\u001b[39;00m(\u001b[39m\"\u001b[39m\u001b[39mNo audio I/O backend is available.\u001b[39m\u001b[39m\"\u001b[39m)\n",
      "\u001b[1;31mRuntimeError\u001b[0m: No audio I/O backend is available."
     ]
    }
   ],
   "source": [
    "# 查看音频文件信息并进行显示\n",
    "\n",
    "import requests\n",
    "import os \n",
    "SAMPLE_WAV_URL =\"https://pytorch-tutorial-assets.s3.amazonaws.com/VOiCES_devkit/source-16k/train/sp0307/Lab41-SRI-VOiCES-src-sp0307-ch127535-sg0042.wav\"\n",
    "SPEECH_FILE  = os.path.join(\".\", \"speech.wav\")\n",
    "if not os.path.exists(SPEECH_FILE):  # 如果文件在本地不存在，则下载该文件\n",
    "    with open(SPEECH_FILE, \"wb\") as file_:\n",
    "        file_.write(requests.get(SAMPLE_WAV_URL).content)\n",
    "        file_.close()\n",
    "metadata = torchaudio.info(SPEECH_FILE)  # 得到音频文件信息\n",
    "print(metadata)"
   ]
  },
  {
   "cell_type": "markdown",
   "metadata": {},
   "source": [
    "## 5.4.5 模型持久化方法\n",
    "\n"
   ]
  },
  {
   "cell_type": "code",
   "execution_count": null,
   "metadata": {},
   "outputs": [],
   "source": [
    "# 保存整个网络结构信息和模型参数信息\n",
    "torch.save(GreedyCTCDecoder, './model.pth') # 该代码将训练好的模型model_object保存到当前目录下的model.pth文件。"
   ]
  },
  {
   "cell_type": "code",
   "execution_count": null,
   "metadata": {},
   "outputs": [],
   "source": [
    "# load\n",
    "model = torch.load('./model.pth')"
   ]
  },
  {
   "cell_type": "code",
   "execution_count": null,
   "metadata": {},
   "outputs": [],
   "source": [
    "# Only save the parameters\n",
    "torch.save(model_object.state_dict(), './params.pth')"
   ]
  },
  {
   "cell_type": "code",
   "execution_count": null,
   "metadata": {},
   "outputs": [],
   "source": [
    "# When loading model, need to import model first, then load the params\n",
    "from models import VggModel\n",
    "model = VggModel()\n",
    "model.load_state_dict(torch.load(',/params.pth'))"
   ]
  },
  {
   "cell_type": "markdown",
   "metadata": {},
   "source": [
    "# Visdom\n",
    "可视化"
   ]
  },
  {
   "cell_type": "code",
   "execution_count": 76,
   "metadata": {},
   "outputs": [
    {
     "name": "stderr",
     "output_type": "stream",
     "text": [
      "Setting up a new session...\n"
     ]
    },
    {
     "name": "stdout",
     "output_type": "stream",
     "text": [
      "Exception in user code:\n",
      "------------------------------------------------------------\n"
     ]
    },
    {
     "name": "stderr",
     "output_type": "stream",
     "text": [
      "Traceback (most recent call last):\n",
      "  File \"c:\\ProgramData\\miniconda3\\envs\\torch_env\\Lib\\site-packages\\urllib3\\connection.py\", line 174, in _new_conn\n",
      "    conn = connection.create_connection(\n",
      "           ^^^^^^^^^^^^^^^^^^^^^^^^^^^^^\n",
      "  File \"c:\\ProgramData\\miniconda3\\envs\\torch_env\\Lib\\site-packages\\urllib3\\util\\connection.py\", line 95, in create_connection\n",
      "    raise err\n",
      "  File \"c:\\ProgramData\\miniconda3\\envs\\torch_env\\Lib\\site-packages\\urllib3\\util\\connection.py\", line 85, in create_connection\n",
      "    sock.connect(sa)\n",
      "ConnectionRefusedError: [WinError 10061] 由于目标计算机积极拒绝，无法连接。\n",
      "\n",
      "During handling of the above exception, another exception occurred:\n",
      "\n",
      "Traceback (most recent call last):\n",
      "  File \"c:\\ProgramData\\miniconda3\\envs\\torch_env\\Lib\\site-packages\\urllib3\\connectionpool.py\", line 714, in urlopen\n",
      "    httplib_response = self._make_request(\n",
      "                       ^^^^^^^^^^^^^^^^^^^\n",
      "  File \"c:\\ProgramData\\miniconda3\\envs\\torch_env\\Lib\\site-packages\\urllib3\\connectionpool.py\", line 415, in _make_request\n",
      "    conn.request(method, url, **httplib_request_kw)\n",
      "  File \"c:\\ProgramData\\miniconda3\\envs\\torch_env\\Lib\\site-packages\\urllib3\\connection.py\", line 244, in request\n",
      "    super(HTTPConnection, self).request(method, url, body=body, headers=headers)\n",
      "  File \"c:\\ProgramData\\miniconda3\\envs\\torch_env\\Lib\\http\\client.py\", line 1286, in request\n",
      "    self._send_request(method, url, body, headers, encode_chunked)\n",
      "  File \"c:\\ProgramData\\miniconda3\\envs\\torch_env\\Lib\\http\\client.py\", line 1332, in _send_request\n",
      "    self.endheaders(body, encode_chunked=encode_chunked)\n",
      "  File \"c:\\ProgramData\\miniconda3\\envs\\torch_env\\Lib\\http\\client.py\", line 1281, in endheaders\n",
      "    self._send_output(message_body, encode_chunked=encode_chunked)\n",
      "  File \"c:\\ProgramData\\miniconda3\\envs\\torch_env\\Lib\\http\\client.py\", line 1041, in _send_output\n",
      "    self.send(msg)\n",
      "  File \"c:\\ProgramData\\miniconda3\\envs\\torch_env\\Lib\\http\\client.py\", line 979, in send\n",
      "    self.connect()\n",
      "  File \"c:\\ProgramData\\miniconda3\\envs\\torch_env\\Lib\\site-packages\\urllib3\\connection.py\", line 205, in connect\n",
      "    conn = self._new_conn()\n",
      "           ^^^^^^^^^^^^^^^^\n",
      "  File \"c:\\ProgramData\\miniconda3\\envs\\torch_env\\Lib\\site-packages\\urllib3\\connection.py\", line 186, in _new_conn\n",
      "    raise NewConnectionError(\n",
      "urllib3.exceptions.NewConnectionError: <urllib3.connection.HTTPConnection object at 0x0000022016642FD0>: Failed to establish a new connection: [WinError 10061] 由于目标计算机积极拒绝，无法连接。\n",
      "\n",
      "During handling of the above exception, another exception occurred:\n",
      "\n",
      "Traceback (most recent call last):\n",
      "  File \"c:\\ProgramData\\miniconda3\\envs\\torch_env\\Lib\\site-packages\\requests\\adapters.py\", line 486, in send\n",
      "    resp = conn.urlopen(\n",
      "           ^^^^^^^^^^^^^\n",
      "  File \"c:\\ProgramData\\miniconda3\\envs\\torch_env\\Lib\\site-packages\\urllib3\\connectionpool.py\", line 798, in urlopen\n",
      "    retries = retries.increment(\n",
      "              ^^^^^^^^^^^^^^^^^^\n",
      "  File \"c:\\ProgramData\\miniconda3\\envs\\torch_env\\Lib\\site-packages\\urllib3\\util\\retry.py\", line 592, in increment\n",
      "    raise MaxRetryError(_pool, url, error or ResponseError(cause))\n",
      "urllib3.exceptions.MaxRetryError: HTTPConnectionPool(host='localhost', port=8097): Max retries exceeded with url: /env/main (Caused by NewConnectionError('<urllib3.connection.HTTPConnection object at 0x0000022016642FD0>: Failed to establish a new connection: [WinError 10061] 由于目标计算机积极拒绝，无法连接。'))\n",
      "\n",
      "During handling of the above exception, another exception occurred:\n",
      "\n",
      "Traceback (most recent call last):\n",
      "  File \"c:\\ProgramData\\miniconda3\\envs\\torch_env\\Lib\\site-packages\\visdom\\__init__.py\", line 756, in _send\n",
      "    return self._handle_post(\n",
      "           ^^^^^^^^^^^^^^^^^^\n",
      "  File \"c:\\ProgramData\\miniconda3\\envs\\torch_env\\Lib\\site-packages\\visdom\\__init__.py\", line 720, in _handle_post\n",
      "    r = self.session.post(url, data=data)\n",
      "        ^^^^^^^^^^^^^^^^^^^^^^^^^^^^^^^^^\n",
      "  File \"c:\\ProgramData\\miniconda3\\envs\\torch_env\\Lib\\site-packages\\requests\\sessions.py\", line 637, in post\n",
      "    return self.request(\"POST\", url, data=data, json=json, **kwargs)\n",
      "           ^^^^^^^^^^^^^^^^^^^^^^^^^^^^^^^^^^^^^^^^^^^^^^^^^^^^^^^^^\n",
      "  File \"c:\\ProgramData\\miniconda3\\envs\\torch_env\\Lib\\site-packages\\requests\\sessions.py\", line 589, in request\n",
      "    resp = self.send(prep, **send_kwargs)\n",
      "           ^^^^^^^^^^^^^^^^^^^^^^^^^^^^^^\n",
      "  File \"c:\\ProgramData\\miniconda3\\envs\\torch_env\\Lib\\site-packages\\requests\\sessions.py\", line 703, in send\n",
      "    r = adapter.send(request, **kwargs)\n",
      "        ^^^^^^^^^^^^^^^^^^^^^^^^^^^^^^^\n",
      "  File \"c:\\ProgramData\\miniconda3\\envs\\torch_env\\Lib\\site-packages\\requests\\adapters.py\", line 519, in send\n",
      "    raise ConnectionError(e, request=request)\n",
      "requests.exceptions.ConnectionError: HTTPConnectionPool(host='localhost', port=8097): Max retries exceeded with url: /env/main (Caused by NewConnectionError('<urllib3.connection.HTTPConnection object at 0x0000022016642FD0>: Failed to establish a new connection: [WinError 10061] 由于目标计算机积极拒绝，无法连接。'))\n",
      "[WinError 10061] 由于目标计算机积极拒绝，无法连接。\n",
      "Visdom.setup_socket.<locals>.on_close() takes 1 positional argument but 3 were given\n",
      "Visdom python client failed to establish socket to get messages from the server. This feature is optional and can be disabled by initializing Visdom with `use_incoming_socket=False`, which will prevent waiting for this request to timeout.\n"
     ]
    },
    {
     "name": "stdout",
     "output_type": "stream",
     "text": [
      "Exception in user code:\n",
      "------------------------------------------------------------\n"
     ]
    },
    {
     "name": "stderr",
     "output_type": "stream",
     "text": [
      "Traceback (most recent call last):\n",
      "  File \"c:\\ProgramData\\miniconda3\\envs\\torch_env\\Lib\\site-packages\\urllib3\\connection.py\", line 174, in _new_conn\n",
      "    conn = connection.create_connection(\n",
      "           ^^^^^^^^^^^^^^^^^^^^^^^^^^^^^\n",
      "  File \"c:\\ProgramData\\miniconda3\\envs\\torch_env\\Lib\\site-packages\\urllib3\\util\\connection.py\", line 95, in create_connection\n",
      "    raise err\n",
      "  File \"c:\\ProgramData\\miniconda3\\envs\\torch_env\\Lib\\site-packages\\urllib3\\util\\connection.py\", line 85, in create_connection\n",
      "    sock.connect(sa)\n",
      "ConnectionRefusedError: [WinError 10061] 由于目标计算机积极拒绝，无法连接。\n",
      "\n",
      "During handling of the above exception, another exception occurred:\n",
      "\n",
      "Traceback (most recent call last):\n",
      "  File \"c:\\ProgramData\\miniconda3\\envs\\torch_env\\Lib\\site-packages\\urllib3\\connectionpool.py\", line 714, in urlopen\n",
      "    httplib_response = self._make_request(\n",
      "                       ^^^^^^^^^^^^^^^^^^^\n",
      "  File \"c:\\ProgramData\\miniconda3\\envs\\torch_env\\Lib\\site-packages\\urllib3\\connectionpool.py\", line 415, in _make_request\n",
      "    conn.request(method, url, **httplib_request_kw)\n",
      "  File \"c:\\ProgramData\\miniconda3\\envs\\torch_env\\Lib\\site-packages\\urllib3\\connection.py\", line 244, in request\n",
      "    super(HTTPConnection, self).request(method, url, body=body, headers=headers)\n",
      "  File \"c:\\ProgramData\\miniconda3\\envs\\torch_env\\Lib\\http\\client.py\", line 1286, in request\n",
      "    self._send_request(method, url, body, headers, encode_chunked)\n",
      "  File \"c:\\ProgramData\\miniconda3\\envs\\torch_env\\Lib\\http\\client.py\", line 1332, in _send_request\n",
      "    self.endheaders(body, encode_chunked=encode_chunked)\n",
      "  File \"c:\\ProgramData\\miniconda3\\envs\\torch_env\\Lib\\http\\client.py\", line 1281, in endheaders\n",
      "    self._send_output(message_body, encode_chunked=encode_chunked)\n",
      "  File \"c:\\ProgramData\\miniconda3\\envs\\torch_env\\Lib\\http\\client.py\", line 1041, in _send_output\n",
      "    self.send(msg)\n",
      "  File \"c:\\ProgramData\\miniconda3\\envs\\torch_env\\Lib\\http\\client.py\", line 979, in send\n",
      "    self.connect()\n",
      "  File \"c:\\ProgramData\\miniconda3\\envs\\torch_env\\Lib\\site-packages\\urllib3\\connection.py\", line 205, in connect\n",
      "    conn = self._new_conn()\n",
      "           ^^^^^^^^^^^^^^^^\n",
      "  File \"c:\\ProgramData\\miniconda3\\envs\\torch_env\\Lib\\site-packages\\urllib3\\connection.py\", line 186, in _new_conn\n",
      "    raise NewConnectionError(\n",
      "urllib3.exceptions.NewConnectionError: <urllib3.connection.HTTPConnection object at 0x000002203DAC1C90>: Failed to establish a new connection: [WinError 10061] 由于目标计算机积极拒绝，无法连接。\n",
      "\n",
      "During handling of the above exception, another exception occurred:\n",
      "\n",
      "Traceback (most recent call last):\n",
      "  File \"c:\\ProgramData\\miniconda3\\envs\\torch_env\\Lib\\site-packages\\requests\\adapters.py\", line 486, in send\n",
      "    resp = conn.urlopen(\n",
      "           ^^^^^^^^^^^^^\n",
      "  File \"c:\\ProgramData\\miniconda3\\envs\\torch_env\\Lib\\site-packages\\urllib3\\connectionpool.py\", line 798, in urlopen\n",
      "    retries = retries.increment(\n",
      "              ^^^^^^^^^^^^^^^^^^\n",
      "  File \"c:\\ProgramData\\miniconda3\\envs\\torch_env\\Lib\\site-packages\\urllib3\\util\\retry.py\", line 592, in increment\n",
      "    raise MaxRetryError(_pool, url, error or ResponseError(cause))\n",
      "urllib3.exceptions.MaxRetryError: HTTPConnectionPool(host='localhost', port=8097): Max retries exceeded with url: /events (Caused by NewConnectionError('<urllib3.connection.HTTPConnection object at 0x000002203DAC1C90>: Failed to establish a new connection: [WinError 10061] 由于目标计算机积极拒绝，无法连接。'))\n",
      "\n",
      "During handling of the above exception, another exception occurred:\n",
      "\n",
      "Traceback (most recent call last):\n",
      "  File \"c:\\ProgramData\\miniconda3\\envs\\torch_env\\Lib\\site-packages\\visdom\\__init__.py\", line 756, in _send\n",
      "    return self._handle_post(\n",
      "           ^^^^^^^^^^^^^^^^^^\n",
      "  File \"c:\\ProgramData\\miniconda3\\envs\\torch_env\\Lib\\site-packages\\visdom\\__init__.py\", line 720, in _handle_post\n",
      "    r = self.session.post(url, data=data)\n",
      "        ^^^^^^^^^^^^^^^^^^^^^^^^^^^^^^^^^\n",
      "  File \"c:\\ProgramData\\miniconda3\\envs\\torch_env\\Lib\\site-packages\\requests\\sessions.py\", line 637, in post\n",
      "    return self.request(\"POST\", url, data=data, json=json, **kwargs)\n",
      "           ^^^^^^^^^^^^^^^^^^^^^^^^^^^^^^^^^^^^^^^^^^^^^^^^^^^^^^^^^\n",
      "  File \"c:\\ProgramData\\miniconda3\\envs\\torch_env\\Lib\\site-packages\\requests\\sessions.py\", line 589, in request\n",
      "    resp = self.send(prep, **send_kwargs)\n",
      "           ^^^^^^^^^^^^^^^^^^^^^^^^^^^^^^\n",
      "  File \"c:\\ProgramData\\miniconda3\\envs\\torch_env\\Lib\\site-packages\\requests\\sessions.py\", line 703, in send\n",
      "    r = adapter.send(request, **kwargs)\n",
      "        ^^^^^^^^^^^^^^^^^^^^^^^^^^^^^^^\n",
      "  File \"c:\\ProgramData\\miniconda3\\envs\\torch_env\\Lib\\site-packages\\requests\\adapters.py\", line 519, in send\n",
      "    raise ConnectionError(e, request=request)\n",
      "requests.exceptions.ConnectionError: HTTPConnectionPool(host='localhost', port=8097): Max retries exceeded with url: /events (Caused by NewConnectionError('<urllib3.connection.HTTPConnection object at 0x000002203DAC1C90>: Failed to establish a new connection: [WinError 10061] 由于目标计算机积极拒绝，无法连接。'))\n"
     ]
    },
    {
     "name": "stdout",
     "output_type": "stream",
     "text": [
      "Exception in user code:\n",
      "------------------------------------------------------------\n"
     ]
    },
    {
     "name": "stderr",
     "output_type": "stream",
     "text": [
      "Traceback (most recent call last):\n",
      "  File \"c:\\ProgramData\\miniconda3\\envs\\torch_env\\Lib\\site-packages\\urllib3\\connection.py\", line 174, in _new_conn\n",
      "    conn = connection.create_connection(\n",
      "           ^^^^^^^^^^^^^^^^^^^^^^^^^^^^^\n",
      "  File \"c:\\ProgramData\\miniconda3\\envs\\torch_env\\Lib\\site-packages\\urllib3\\util\\connection.py\", line 95, in create_connection\n",
      "    raise err\n",
      "  File \"c:\\ProgramData\\miniconda3\\envs\\torch_env\\Lib\\site-packages\\urllib3\\util\\connection.py\", line 85, in create_connection\n",
      "    sock.connect(sa)\n",
      "ConnectionRefusedError: [WinError 10061] 由于目标计算机积极拒绝，无法连接。\n",
      "\n",
      "During handling of the above exception, another exception occurred:\n",
      "\n",
      "Traceback (most recent call last):\n",
      "  File \"c:\\ProgramData\\miniconda3\\envs\\torch_env\\Lib\\site-packages\\urllib3\\connectionpool.py\", line 714, in urlopen\n",
      "    httplib_response = self._make_request(\n",
      "                       ^^^^^^^^^^^^^^^^^^^\n",
      "  File \"c:\\ProgramData\\miniconda3\\envs\\torch_env\\Lib\\site-packages\\urllib3\\connectionpool.py\", line 415, in _make_request\n",
      "    conn.request(method, url, **httplib_request_kw)\n",
      "  File \"c:\\ProgramData\\miniconda3\\envs\\torch_env\\Lib\\site-packages\\urllib3\\connection.py\", line 244, in request\n",
      "    super(HTTPConnection, self).request(method, url, body=body, headers=headers)\n",
      "  File \"c:\\ProgramData\\miniconda3\\envs\\torch_env\\Lib\\http\\client.py\", line 1286, in request\n",
      "    self._send_request(method, url, body, headers, encode_chunked)\n",
      "  File \"c:\\ProgramData\\miniconda3\\envs\\torch_env\\Lib\\http\\client.py\", line 1332, in _send_request\n",
      "    self.endheaders(body, encode_chunked=encode_chunked)\n",
      "  File \"c:\\ProgramData\\miniconda3\\envs\\torch_env\\Lib\\http\\client.py\", line 1281, in endheaders\n",
      "    self._send_output(message_body, encode_chunked=encode_chunked)\n",
      "  File \"c:\\ProgramData\\miniconda3\\envs\\torch_env\\Lib\\http\\client.py\", line 1041, in _send_output\n",
      "    self.send(msg)\n",
      "  File \"c:\\ProgramData\\miniconda3\\envs\\torch_env\\Lib\\http\\client.py\", line 979, in send\n",
      "    self.connect()\n",
      "  File \"c:\\ProgramData\\miniconda3\\envs\\torch_env\\Lib\\site-packages\\urllib3\\connection.py\", line 205, in connect\n",
      "    conn = self._new_conn()\n",
      "           ^^^^^^^^^^^^^^^^\n",
      "  File \"c:\\ProgramData\\miniconda3\\envs\\torch_env\\Lib\\site-packages\\urllib3\\connection.py\", line 186, in _new_conn\n",
      "    raise NewConnectionError(\n",
      "urllib3.exceptions.NewConnectionError: <urllib3.connection.HTTPConnection object at 0x000002203DAAF5D0>: Failed to establish a new connection: [WinError 10061] 由于目标计算机积极拒绝，无法连接。\n",
      "\n",
      "During handling of the above exception, another exception occurred:\n",
      "\n",
      "Traceback (most recent call last):\n",
      "  File \"c:\\ProgramData\\miniconda3\\envs\\torch_env\\Lib\\site-packages\\requests\\adapters.py\", line 486, in send\n",
      "    resp = conn.urlopen(\n",
      "           ^^^^^^^^^^^^^\n",
      "  File \"c:\\ProgramData\\miniconda3\\envs\\torch_env\\Lib\\site-packages\\urllib3\\connectionpool.py\", line 798, in urlopen\n",
      "    retries = retries.increment(\n",
      "              ^^^^^^^^^^^^^^^^^^\n",
      "  File \"c:\\ProgramData\\miniconda3\\envs\\torch_env\\Lib\\site-packages\\urllib3\\util\\retry.py\", line 592, in increment\n",
      "    raise MaxRetryError(_pool, url, error or ResponseError(cause))\n",
      "urllib3.exceptions.MaxRetryError: HTTPConnectionPool(host='localhost', port=8097): Max retries exceeded with url: /update (Caused by NewConnectionError('<urllib3.connection.HTTPConnection object at 0x000002203DAAF5D0>: Failed to establish a new connection: [WinError 10061] 由于目标计算机积极拒绝，无法连接。'))\n",
      "\n",
      "During handling of the above exception, another exception occurred:\n",
      "\n",
      "Traceback (most recent call last):\n",
      "  File \"c:\\ProgramData\\miniconda3\\envs\\torch_env\\Lib\\site-packages\\visdom\\__init__.py\", line 756, in _send\n",
      "    return self._handle_post(\n",
      "           ^^^^^^^^^^^^^^^^^^\n",
      "  File \"c:\\ProgramData\\miniconda3\\envs\\torch_env\\Lib\\site-packages\\visdom\\__init__.py\", line 720, in _handle_post\n",
      "    r = self.session.post(url, data=data)\n",
      "        ^^^^^^^^^^^^^^^^^^^^^^^^^^^^^^^^^\n",
      "  File \"c:\\ProgramData\\miniconda3\\envs\\torch_env\\Lib\\site-packages\\requests\\sessions.py\", line 637, in post\n",
      "    return self.request(\"POST\", url, data=data, json=json, **kwargs)\n",
      "           ^^^^^^^^^^^^^^^^^^^^^^^^^^^^^^^^^^^^^^^^^^^^^^^^^^^^^^^^^\n",
      "  File \"c:\\ProgramData\\miniconda3\\envs\\torch_env\\Lib\\site-packages\\requests\\sessions.py\", line 589, in request\n",
      "    resp = self.send(prep, **send_kwargs)\n",
      "           ^^^^^^^^^^^^^^^^^^^^^^^^^^^^^^\n",
      "  File \"c:\\ProgramData\\miniconda3\\envs\\torch_env\\Lib\\site-packages\\requests\\sessions.py\", line 703, in send\n",
      "    r = adapter.send(request, **kwargs)\n",
      "        ^^^^^^^^^^^^^^^^^^^^^^^^^^^^^^^\n",
      "  File \"c:\\ProgramData\\miniconda3\\envs\\torch_env\\Lib\\site-packages\\requests\\adapters.py\", line 519, in send\n",
      "    raise ConnectionError(e, request=request)\n",
      "requests.exceptions.ConnectionError: HTTPConnectionPool(host='localhost', port=8097): Max retries exceeded with url: /update (Caused by NewConnectionError('<urllib3.connection.HTTPConnection object at 0x000002203DAAF5D0>: Failed to establish a new connection: [WinError 10061] 由于目标计算机积极拒绝，无法连接。'))\n"
     ]
    },
    {
     "data": {
      "text/plain": [
       "False"
      ]
     },
     "execution_count": 76,
     "metadata": {},
     "output_type": "execute_result"
    }
   ],
   "source": [
    "# Visdom根据数据点绘制曲线\n",
    "from visdom import Visdom\n",
    "\n",
    "viz = Visdom()\n",
    "\n",
    "viz.line([0.],  # Y的第一个点坐标\n",
    "        [0.],    # X的第一个点坐标\n",
    "        win=\"train loss\",    #窗口名称\n",
    "        opts=dict(title='train_loss')  # 图像标例\n",
    "        )  #设置起始点\n",
    "viz.line([1.],  # Y的下一个点坐标\n",
    "        [1.],    # X的下一个点坐标\n",
    "        win=\"train loss\",  # 窗口名称，与上个窗口同名表示显示在同一个表格里\n",
    "        update='append'    # 添加到上一个点后面\n",
    "        ) "
   ]
  },
  {
   "cell_type": "code",
   "execution_count": 77,
   "metadata": {},
   "outputs": [
    {
     "name": "stderr",
     "output_type": "stream",
     "text": [
      "Setting up a new session...\n"
     ]
    },
    {
     "name": "stdout",
     "output_type": "stream",
     "text": [
      "Exception in user code:\n",
      "------------------------------------------------------------\n"
     ]
    },
    {
     "name": "stderr",
     "output_type": "stream",
     "text": [
      "Traceback (most recent call last):\n",
      "  File \"c:\\ProgramData\\miniconda3\\envs\\torch_env\\Lib\\site-packages\\urllib3\\connection.py\", line 174, in _new_conn\n",
      "    conn = connection.create_connection(\n",
      "           ^^^^^^^^^^^^^^^^^^^^^^^^^^^^^\n",
      "  File \"c:\\ProgramData\\miniconda3\\envs\\torch_env\\Lib\\site-packages\\urllib3\\util\\connection.py\", line 95, in create_connection\n",
      "    raise err\n",
      "  File \"c:\\ProgramData\\miniconda3\\envs\\torch_env\\Lib\\site-packages\\urllib3\\util\\connection.py\", line 85, in create_connection\n",
      "    sock.connect(sa)\n",
      "ConnectionRefusedError: [WinError 10061] 由于目标计算机积极拒绝，无法连接。\n",
      "\n",
      "During handling of the above exception, another exception occurred:\n",
      "\n",
      "Traceback (most recent call last):\n",
      "  File \"c:\\ProgramData\\miniconda3\\envs\\torch_env\\Lib\\site-packages\\urllib3\\connectionpool.py\", line 714, in urlopen\n",
      "    httplib_response = self._make_request(\n",
      "                       ^^^^^^^^^^^^^^^^^^^\n",
      "  File \"c:\\ProgramData\\miniconda3\\envs\\torch_env\\Lib\\site-packages\\urllib3\\connectionpool.py\", line 415, in _make_request\n",
      "    conn.request(method, url, **httplib_request_kw)\n",
      "  File \"c:\\ProgramData\\miniconda3\\envs\\torch_env\\Lib\\site-packages\\urllib3\\connection.py\", line 244, in request\n",
      "    super(HTTPConnection, self).request(method, url, body=body, headers=headers)\n",
      "  File \"c:\\ProgramData\\miniconda3\\envs\\torch_env\\Lib\\http\\client.py\", line 1286, in request\n",
      "    self._send_request(method, url, body, headers, encode_chunked)\n",
      "  File \"c:\\ProgramData\\miniconda3\\envs\\torch_env\\Lib\\http\\client.py\", line 1332, in _send_request\n",
      "    self.endheaders(body, encode_chunked=encode_chunked)\n",
      "  File \"c:\\ProgramData\\miniconda3\\envs\\torch_env\\Lib\\http\\client.py\", line 1281, in endheaders\n",
      "    self._send_output(message_body, encode_chunked=encode_chunked)\n",
      "  File \"c:\\ProgramData\\miniconda3\\envs\\torch_env\\Lib\\http\\client.py\", line 1041, in _send_output\n",
      "    self.send(msg)\n",
      "  File \"c:\\ProgramData\\miniconda3\\envs\\torch_env\\Lib\\http\\client.py\", line 979, in send\n",
      "    self.connect()\n",
      "  File \"c:\\ProgramData\\miniconda3\\envs\\torch_env\\Lib\\site-packages\\urllib3\\connection.py\", line 205, in connect\n",
      "    conn = self._new_conn()\n",
      "           ^^^^^^^^^^^^^^^^\n",
      "  File \"c:\\ProgramData\\miniconda3\\envs\\torch_env\\Lib\\site-packages\\urllib3\\connection.py\", line 186, in _new_conn\n",
      "    raise NewConnectionError(\n",
      "urllib3.exceptions.NewConnectionError: <urllib3.connection.HTTPConnection object at 0x000002203DB30850>: Failed to establish a new connection: [WinError 10061] 由于目标计算机积极拒绝，无法连接。\n",
      "\n",
      "During handling of the above exception, another exception occurred:\n",
      "\n",
      "Traceback (most recent call last):\n",
      "  File \"c:\\ProgramData\\miniconda3\\envs\\torch_env\\Lib\\site-packages\\requests\\adapters.py\", line 486, in send\n",
      "    resp = conn.urlopen(\n",
      "           ^^^^^^^^^^^^^\n",
      "  File \"c:\\ProgramData\\miniconda3\\envs\\torch_env\\Lib\\site-packages\\urllib3\\connectionpool.py\", line 798, in urlopen\n",
      "    retries = retries.increment(\n",
      "              ^^^^^^^^^^^^^^^^^^\n",
      "  File \"c:\\ProgramData\\miniconda3\\envs\\torch_env\\Lib\\site-packages\\urllib3\\util\\retry.py\", line 592, in increment\n",
      "    raise MaxRetryError(_pool, url, error or ResponseError(cause))\n",
      "urllib3.exceptions.MaxRetryError: HTTPConnectionPool(host='localhost', port=8097): Max retries exceeded with url: /env/image (Caused by NewConnectionError('<urllib3.connection.HTTPConnection object at 0x000002203DB30850>: Failed to establish a new connection: [WinError 10061] 由于目标计算机积极拒绝，无法连接。'))\n",
      "\n",
      "During handling of the above exception, another exception occurred:\n",
      "\n",
      "Traceback (most recent call last):\n",
      "  File \"c:\\ProgramData\\miniconda3\\envs\\torch_env\\Lib\\site-packages\\visdom\\__init__.py\", line 756, in _send\n",
      "    return self._handle_post(\n",
      "           ^^^^^^^^^^^^^^^^^^\n",
      "  File \"c:\\ProgramData\\miniconda3\\envs\\torch_env\\Lib\\site-packages\\visdom\\__init__.py\", line 720, in _handle_post\n",
      "    r = self.session.post(url, data=data)\n",
      "        ^^^^^^^^^^^^^^^^^^^^^^^^^^^^^^^^^\n",
      "  File \"c:\\ProgramData\\miniconda3\\envs\\torch_env\\Lib\\site-packages\\requests\\sessions.py\", line 637, in post\n",
      "    return self.request(\"POST\", url, data=data, json=json, **kwargs)\n",
      "           ^^^^^^^^^^^^^^^^^^^^^^^^^^^^^^^^^^^^^^^^^^^^^^^^^^^^^^^^^\n",
      "  File \"c:\\ProgramData\\miniconda3\\envs\\torch_env\\Lib\\site-packages\\requests\\sessions.py\", line 589, in request\n",
      "    resp = self.send(prep, **send_kwargs)\n",
      "           ^^^^^^^^^^^^^^^^^^^^^^^^^^^^^^\n",
      "  File \"c:\\ProgramData\\miniconda3\\envs\\torch_env\\Lib\\site-packages\\requests\\sessions.py\", line 703, in send\n",
      "    r = adapter.send(request, **kwargs)\n",
      "        ^^^^^^^^^^^^^^^^^^^^^^^^^^^^^^^\n",
      "  File \"c:\\ProgramData\\miniconda3\\envs\\torch_env\\Lib\\site-packages\\requests\\adapters.py\", line 519, in send\n",
      "    raise ConnectionError(e, request=request)\n",
      "requests.exceptions.ConnectionError: HTTPConnectionPool(host='localhost', port=8097): Max retries exceeded with url: /env/image (Caused by NewConnectionError('<urllib3.connection.HTTPConnection object at 0x000002203DB30850>: Failed to establish a new connection: [WinError 10061] 由于目标计算机积极拒绝，无法连接。'))\n",
      "[WinError 10061] 由于目标计算机积极拒绝，无法连接。\n",
      "Visdom.setup_socket.<locals>.on_close() takes 1 positional argument but 3 were given\n",
      "Visdom python client failed to establish socket to get messages from the server. This feature is optional and can be disabled by initializing Visdom with `use_incoming_socket=False`, which will prevent waiting for this request to timeout.\n"
     ]
    },
    {
     "name": "stdout",
     "output_type": "stream",
     "text": [
      "Exception in user code:\n",
      "------------------------------------------------------------\n"
     ]
    },
    {
     "name": "stderr",
     "output_type": "stream",
     "text": [
      "Traceback (most recent call last):\n",
      "  File \"c:\\ProgramData\\miniconda3\\envs\\torch_env\\Lib\\site-packages\\urllib3\\connection.py\", line 174, in _new_conn\n",
      "    conn = connection.create_connection(\n",
      "           ^^^^^^^^^^^^^^^^^^^^^^^^^^^^^\n",
      "  File \"c:\\ProgramData\\miniconda3\\envs\\torch_env\\Lib\\site-packages\\urllib3\\util\\connection.py\", line 95, in create_connection\n",
      "    raise err\n",
      "  File \"c:\\ProgramData\\miniconda3\\envs\\torch_env\\Lib\\site-packages\\urllib3\\util\\connection.py\", line 85, in create_connection\n",
      "    sock.connect(sa)\n",
      "ConnectionRefusedError: [WinError 10061] 由于目标计算机积极拒绝，无法连接。\n",
      "\n",
      "During handling of the above exception, another exception occurred:\n",
      "\n",
      "Traceback (most recent call last):\n",
      "  File \"c:\\ProgramData\\miniconda3\\envs\\torch_env\\Lib\\site-packages\\urllib3\\connectionpool.py\", line 714, in urlopen\n",
      "    httplib_response = self._make_request(\n",
      "                       ^^^^^^^^^^^^^^^^^^^\n",
      "  File \"c:\\ProgramData\\miniconda3\\envs\\torch_env\\Lib\\site-packages\\urllib3\\connectionpool.py\", line 415, in _make_request\n",
      "    conn.request(method, url, **httplib_request_kw)\n",
      "  File \"c:\\ProgramData\\miniconda3\\envs\\torch_env\\Lib\\site-packages\\urllib3\\connection.py\", line 244, in request\n",
      "    super(HTTPConnection, self).request(method, url, body=body, headers=headers)\n",
      "  File \"c:\\ProgramData\\miniconda3\\envs\\torch_env\\Lib\\http\\client.py\", line 1286, in request\n",
      "    self._send_request(method, url, body, headers, encode_chunked)\n",
      "  File \"c:\\ProgramData\\miniconda3\\envs\\torch_env\\Lib\\http\\client.py\", line 1332, in _send_request\n",
      "    self.endheaders(body, encode_chunked=encode_chunked)\n",
      "  File \"c:\\ProgramData\\miniconda3\\envs\\torch_env\\Lib\\http\\client.py\", line 1281, in endheaders\n",
      "    self._send_output(message_body, encode_chunked=encode_chunked)\n",
      "  File \"c:\\ProgramData\\miniconda3\\envs\\torch_env\\Lib\\http\\client.py\", line 1041, in _send_output\n",
      "    self.send(msg)\n",
      "  File \"c:\\ProgramData\\miniconda3\\envs\\torch_env\\Lib\\http\\client.py\", line 979, in send\n",
      "    self.connect()\n",
      "  File \"c:\\ProgramData\\miniconda3\\envs\\torch_env\\Lib\\site-packages\\urllib3\\connection.py\", line 205, in connect\n",
      "    conn = self._new_conn()\n",
      "           ^^^^^^^^^^^^^^^^\n",
      "  File \"c:\\ProgramData\\miniconda3\\envs\\torch_env\\Lib\\site-packages\\urllib3\\connection.py\", line 186, in _new_conn\n",
      "    raise NewConnectionError(\n",
      "urllib3.exceptions.NewConnectionError: <urllib3.connection.HTTPConnection object at 0x000002203DAD9A50>: Failed to establish a new connection: [WinError 10061] 由于目标计算机积极拒绝，无法连接。\n",
      "\n",
      "During handling of the above exception, another exception occurred:\n",
      "\n",
      "Traceback (most recent call last):\n",
      "  File \"c:\\ProgramData\\miniconda3\\envs\\torch_env\\Lib\\site-packages\\requests\\adapters.py\", line 486, in send\n",
      "    resp = conn.urlopen(\n",
      "           ^^^^^^^^^^^^^\n",
      "  File \"c:\\ProgramData\\miniconda3\\envs\\torch_env\\Lib\\site-packages\\urllib3\\connectionpool.py\", line 798, in urlopen\n",
      "    retries = retries.increment(\n",
      "              ^^^^^^^^^^^^^^^^^^\n",
      "  File \"c:\\ProgramData\\miniconda3\\envs\\torch_env\\Lib\\site-packages\\urllib3\\util\\retry.py\", line 592, in increment\n",
      "    raise MaxRetryError(_pool, url, error or ResponseError(cause))\n",
      "urllib3.exceptions.MaxRetryError: HTTPConnectionPool(host='localhost', port=8097): Max retries exceeded with url: /events (Caused by NewConnectionError('<urllib3.connection.HTTPConnection object at 0x000002203DAD9A50>: Failed to establish a new connection: [WinError 10061] 由于目标计算机积极拒绝，无法连接。'))\n",
      "\n",
      "During handling of the above exception, another exception occurred:\n",
      "\n",
      "Traceback (most recent call last):\n",
      "  File \"c:\\ProgramData\\miniconda3\\envs\\torch_env\\Lib\\site-packages\\visdom\\__init__.py\", line 756, in _send\n",
      "    return self._handle_post(\n",
      "           ^^^^^^^^^^^^^^^^^^\n",
      "  File \"c:\\ProgramData\\miniconda3\\envs\\torch_env\\Lib\\site-packages\\visdom\\__init__.py\", line 720, in _handle_post\n",
      "    r = self.session.post(url, data=data)\n",
      "        ^^^^^^^^^^^^^^^^^^^^^^^^^^^^^^^^^\n",
      "  File \"c:\\ProgramData\\miniconda3\\envs\\torch_env\\Lib\\site-packages\\requests\\sessions.py\", line 637, in post\n",
      "    return self.request(\"POST\", url, data=data, json=json, **kwargs)\n",
      "           ^^^^^^^^^^^^^^^^^^^^^^^^^^^^^^^^^^^^^^^^^^^^^^^^^^^^^^^^^\n",
      "  File \"c:\\ProgramData\\miniconda3\\envs\\torch_env\\Lib\\site-packages\\requests\\sessions.py\", line 589, in request\n",
      "    resp = self.send(prep, **send_kwargs)\n",
      "           ^^^^^^^^^^^^^^^^^^^^^^^^^^^^^^\n",
      "  File \"c:\\ProgramData\\miniconda3\\envs\\torch_env\\Lib\\site-packages\\requests\\sessions.py\", line 703, in send\n",
      "    r = adapter.send(request, **kwargs)\n",
      "        ^^^^^^^^^^^^^^^^^^^^^^^^^^^^^^^\n",
      "  File \"c:\\ProgramData\\miniconda3\\envs\\torch_env\\Lib\\site-packages\\requests\\adapters.py\", line 519, in send\n",
      "    raise ConnectionError(e, request=request)\n",
      "requests.exceptions.ConnectionError: HTTPConnectionPool(host='localhost', port=8097): Max retries exceeded with url: /events (Caused by NewConnectionError('<urllib3.connection.HTTPConnection object at 0x000002203DAD9A50>: Failed to establish a new connection: [WinError 10061] 由于目标计算机积极拒绝，无法连接。'))\n"
     ]
    },
    {
     "data": {
      "text/plain": [
       "False"
      ]
     },
     "execution_count": 77,
     "metadata": {},
     "output_type": "execute_result"
    }
   ],
   "source": [
    "from visdom import Visdom\n",
    "import numpy as np\n",
    "image = np.random.randn(1, 3, 200, 200) # 一张3通道,200*200大小的图像\n",
    "viz = Visdom(env='image') # 切换到image环境\n",
    "viz.images(image, win='x')"
   ]
  }
 ],
 "metadata": {
  "kernelspec": {
   "display_name": "torch_env",
   "language": "python",
   "name": "python3"
  },
  "language_info": {
   "codemirror_mode": {
    "name": "ipython",
    "version": 3
   },
   "file_extension": ".py",
   "mimetype": "text/x-python",
   "name": "python",
   "nbconvert_exporter": "python",
   "pygments_lexer": "ipython3",
   "version": "3.11.5"
  },
  "orig_nbformat": 4
 },
 "nbformat": 4,
 "nbformat_minor": 2
}
